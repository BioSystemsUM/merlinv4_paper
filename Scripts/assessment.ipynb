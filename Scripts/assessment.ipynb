{
 "cells": [
  {
   "cell_type": "code",
   "execution_count": 3,
   "outputs": [
    {
     "name": "stderr",
     "output_type": "stream",
     "text": [
      "'R_EXi_desfbx_un(e)' is not a valid SBML 'SId'.\n",
      "'R_EXo_methal(e)' is not a valid SBML 'SId'.\n",
      "'R_EXi_trsfr(e)' is not a valid SBML 'SId'.\n",
      "'R_EXo_mercppyr(e)' is not a valid SBML 'SId'.\n",
      "'R_EXi_phe_D(e)' is not a valid SBML 'SId'.\n",
      "'R_EXo_imlac(e)' is not a valid SBML 'SId'.\n",
      "'R_EXo_lctfr_un(e)' is not a valid SBML 'SId'.\n",
      "'R_EXi_lctfr(e)' is not a valid SBML 'SId'.\n",
      "'R_EXi_myglbn_un(e)' is not a valid SBML 'SId'.\n",
      "'R_EXi_desfbx(e)' is not a valid SBML 'SId'.\n",
      "'R_EXi_trsfr_un(e)' is not a valid SBML 'SId'.\n",
      "'R_EXi_ALC(e)' is not a valid SBML 'SId'.\n",
      "'R_EXi_hmglbn(e)' is not a valid SBML 'SId'.\n",
      "'R_EXi_FEALC(e)' is not a valid SBML 'SId'.\n",
      "'R_EXo_hmglbn_un(e)' is not a valid SBML 'SId'.\n",
      "'R_EXo_myglbn(e)' is not a valid SBML 'SId'.\n",
      "'R_EXi_23dhb(e)' is not a valid SBML 'SId'.\n",
      "'R_EXi_desfbx_un(e)' is not a valid SBML 'SId'.\n",
      "'R_EXo_methal(e)' is not a valid SBML 'SId'.\n",
      "'R_EXi_trsfr(e)' is not a valid SBML 'SId'.\n",
      "'R_EXo_mercppyr(e)' is not a valid SBML 'SId'.\n",
      "'R_EXi_phe_D(e)' is not a valid SBML 'SId'.\n",
      "'R_EXo_imlac(e)' is not a valid SBML 'SId'.\n",
      "'R_EXo_lctfr_un(e)' is not a valid SBML 'SId'.\n",
      "'R_EXi_lctfr(e)' is not a valid SBML 'SId'.\n",
      "'R_EXi_myglbn_un(e)' is not a valid SBML 'SId'.\n",
      "'R_EXi_desfbx(e)' is not a valid SBML 'SId'.\n",
      "'R_EXi_trsfr_un(e)' is not a valid SBML 'SId'.\n",
      "'R_EXi_ALC(e)' is not a valid SBML 'SId'.\n",
      "'R_EXi_hmglbn(e)' is not a valid SBML 'SId'.\n",
      "'R_EXi_FEALC(e)' is not a valid SBML 'SId'.\n",
      "'R_EXo_hmglbn_un(e)' is not a valid SBML 'SId'.\n",
      "'R_EXo_myglbn(e)' is not a valid SBML 'SId'.\n",
      "'R_EXi_23dhb(e)' is not a valid SBML 'SId'.\n",
      "257313 does not conform to 'http(s)://identifiers.org/collection/id' or'http(s)://identifiers.org/COLLECTION:id\n",
      "No objective in listOfObjectives\n",
      "No objective coefficients in model. Unclear what should be optimized\n"
     ]
    },
    {
     "name": "stdout",
     "output_type": "stream",
     "text": [
      "Tool: curated\n",
      "Total number of reactions: 1672\n",
      "Reactions converted with ModelSEED: 917\n",
      "Reactions not converted with ModelSEED: 191\n",
      "Tool: 4\n",
      "Total number of reactions: 1819\n",
      "Reactions converted with ModelSEED: 1134\n",
      "Reactions not converted with ModelSEED: 123\n"
     ]
    }
   ],
   "source": [
    "\n",
    "from Scripts.utils import ReconstructionTool\n",
    "from Scripts.core import read_sbml_into_cobra_model\n",
    "\n",
    "from Scripts.assessment import ModelAssessor\n",
    "\n",
    "model = read_sbml_into_cobra_model(file_path=\"../Models/Manually_curated/Bpertussis.xml\",\n",
    "                           database_version=\"bigg\", reconstruction_tool=\"curated\")\n",
    "\n",
    "model2_model_seed = read_sbml_into_cobra_model(file_path=\"../Models/Merlin/Bpertussis.xml\",\n",
    "                           database_version=\"kegg\", reconstruction_tool=ReconstructionTool.MERLIN.value)\n",
    "\n",
    "reactions = ModelAssessor.convert_reactions({\"curated_model\": model,\n",
    "                                             \"merlin\": model2_model_seed})"
   ],
   "metadata": {
    "collapsed": false,
    "pycharm": {
     "name": "#%%\n"
    }
   }
  },
  {
   "cell_type": "code",
   "execution_count": 4,
   "outputs": [
    {
     "data": {
      "text/plain": "{'RXN32636',\n 'RXN14167',\n 'RXN40050',\n 'RXN03974',\n 'RXN32460',\n 'RXN31272',\n 'RXN38143',\n 'RXN03991',\n 'RXN06959',\n 'RXN32256',\n 'RXN33299',\n 'RXN01022',\n 'RXN37718',\n 'RXN33994',\n 'RXN11962',\n 'RXN14159',\n 'RXN30151',\n 'RXN03601',\n 'RXN33891',\n 'RXN35213',\n 'RXN33083',\n 'RXN31323',\n 'RXN15947',\n 'RXN16343',\n 'RXN38278',\n 'RXN16772',\n 'RXN33391',\n 'RXN02936',\n 'RXN31363',\n 'RXN03344',\n 'RXN40364',\n 'RXN00966',\n 'RXN37956',\n 'RXN38258',\n 'RXN33241',\n 'RXN34734',\n 'RXN15408',\n 'RXN11809',\n 'RXN38148',\n 'RXN14245',\n 'RXN06080',\n 'RXN35424',\n 'RXN01153',\n 'RXN40400',\n 'RXN07725',\n 'RXN31327',\n 'RXN33220',\n 'RXN31851',\n 'RXN38509',\n 'RXN28267',\n 'RXN16679',\n 'RXN39319',\n 'RXN16503',\n 'RXN03599',\n 'RXN35553',\n 'RXN27892',\n 'RXN03336',\n 'RXN00622',\n 'RXN38467',\n 'RXN07879',\n 'RXN38117',\n 'RXN35310',\n 'RXN31255',\n 'RXN02229',\n 'RXN34737',\n 'RXN16268',\n 'RXN38484',\n 'RXN03008',\n 'RXN16315',\n 'RXN07180',\n 'RXN15478',\n 'RXN35698',\n 'RXN16207',\n 'RXN39334',\n 'RXN12028',\n 'RXN00669',\n 'RXN32424',\n 'RXN29942',\n 'RXN05116',\n 'RXN38054',\n 'RXN28327',\n 'RXN02008',\n 'RXN33493',\n 'RXN27686',\n 'RXN38692',\n 'RXN19825',\n 'RXN32871',\n 'RXN06043',\n 'RXN37965',\n 'RXN01802',\n 'RXN30428',\n 'RXN34626',\n 'RXN00965',\n 'RXN32174',\n 'RXN01944',\n 'RXN07775',\n 'RXN11997',\n 'RXN03301',\n 'RXN30338',\n 'RXN00259',\n 'RXN32371',\n 'RXN33490',\n 'RXN16209',\n 'RXN28382',\n 'RXN14017',\n 'RXN06051',\n 'RXN35549',\n 'RXN33129',\n 'RXN16478',\n 'RXN03933',\n 'RXN37937',\n 'RXN30710',\n 'RXN02625',\n 'RXN16271',\n 'RXN35282',\n 'RXN15949',\n 'RXN01933',\n 'RXN02780',\n 'RXN16642',\n 'RXN04650',\n 'RXN27916',\n 'RXN38030',\n 'RXN16143',\n 'RXN38710',\n 'RXN35518',\n 'RXN02446',\n 'RXN04811',\n 'RXN27685',\n 'RXN37953',\n 'RXN39449',\n 'RXN33696',\n 'RXN30908',\n 'RXN35679',\n 'RXN39974',\n 'RXN30430',\n 'RXN27932',\n 'RXN07479',\n 'RXN14054',\n 'RXN32100',\n 'RXN30167',\n 'RXN01710',\n 'RXN00987',\n 'RXN38486',\n 'RXN00905',\n 'RXN39998',\n 'RXN00787',\n 'RXN30443',\n 'RXN34244',\n 'RXN11817',\n 'RXN00375',\n 'RXN32434',\n 'RXN33610',\n 'RXN11972',\n 'RXN40020',\n 'RXN32074',\n 'RXN16611',\n 'RXN16246',\n 'RXN03304',\n 'RXN03341',\n 'RXN39598',\n 'RXN15169',\n 'RXN05115',\n 'RXN29993',\n 'RXN31946',\n 'RXN40015',\n 'RXN15811',\n 'RXN01799',\n 'RXN27525',\n 'RXN04787',\n 'RXN37583',\n 'RXN35346',\n 'RXN38060',\n 'RXN03316',\n 'RXN31206',\n 'RXN33664',\n 'RXN19213',\n 'RXN30907',\n 'RXN25989',\n 'RXN40019',\n 'RXN00463',\n 'RXN19774',\n 'RXN33328',\n 'RXN39977',\n 'RXN35527',\n 'RXN38181',\n 'RXN32508',\n 'RXN32419',\n 'RXN39964',\n 'RXN34738',\n 'RXN32413',\n 'RXN16011',\n 'RXN03511',\n 'RXN16723',\n 'RXN38691',\n 'RXN31254',\n 'RXN20740',\n 'RXN28082',\n 'RXN03959',\n 'RXN06691',\n 'RXN11618',\n 'RXN06781',\n 'RXN03779',\n 'RXN31801',\n 'RXN17757',\n 'RXN27543',\n 'RXN33346',\n 'RXN07683',\n 'RXN32682',\n 'RXN38702',\n 'RXN30189',\n 'RXN32064',\n 'RXN04559',\n 'RXN28100',\n 'RXN02566',\n 'RXN02791',\n 'RXN06500',\n 'RXN06045',\n 'RXN34220',\n 'RXN16229',\n 'RXN11729',\n 'RXN04726',\n 'RXN11834',\n 'RXN16270',\n 'RXN06390',\n 'RXN31321',\n 'RXN04070',\n 'RXN34304',\n 'RXN30324',\n 'RXN11772',\n 'RXN27724',\n 'RXN39318',\n 'RXN12510',\n 'RXN35534',\n 'RXN35234',\n 'RXN32386',\n 'RXN27286',\n 'RXN30168',\n 'RXN30089',\n 'RXN30378',\n 'RXN01579',\n 'RXN35548',\n 'RXN16323',\n 'RXN20041',\n 'RXN35544',\n 'RXN16269',\n 'RXN25746',\n 'RXN30188',\n 'RXN27536',\n 'RXN14120',\n 'RXN02297',\n 'RXN35473',\n 'RXN01602',\n 'RXN12030',\n 'RXN32981',\n 'RXN38029',\n 'RXN04819',\n 'RXN40300',\n 'RXN40063',\n 'RXN35438',\n 'RXN11611',\n 'RXN33556',\n 'RXN15875',\n 'RXN00598',\n 'RXN40000',\n 'RXN28991',\n 'RXN30161',\n 'RXN37934',\n 'RXN34670',\n 'RXN07679',\n 'RXN30308',\n 'RXN00736',\n 'RXN04831',\n 'RXN16623',\n 'RXN39881',\n 'RXN06729',\n 'RXN15226',\n 'RXN33166',\n 'RXN31075',\n 'RXN15810',\n 'RXN38158',\n 'RXN38834',\n 'RXN00592',\n 'RXN03254',\n 'RXN32308',\n 'RXN30334',\n 'RXN32194',\n 'RXN00142',\n 'RXN39343',\n 'RXN37546',\n 'RXN30369',\n 'RXN27867',\n 'RXN40125',\n 'RXN13941',\n 'RXN35448',\n 'RXN30164',\n 'RXN15804',\n 'RXN37386',\n 'RXN25745',\n 'RXN19224',\n 'RXN32851',\n 'RXN31253',\n 'RXN20057',\n 'RXN07099',\n 'RXN11810',\n 'RXN05055',\n 'RXN38909',\n 'RXN00792',\n 'RXN31217',\n 'RXN01453',\n 'RXN16442',\n 'RXN16232',\n 'RXN00367',\n 'RXN32091',\n 'RXN38910',\n 'RXN01999',\n 'RXN35441',\n 'RXN32015',\n 'RXN19896',\n 'RXN34730',\n 'RXN05044',\n 'RXN22827',\n 'RXN33266',\n 'RXN28979',\n 'RXN40004',\n 'RXN32152',\n 'RXN30068',\n 'RXN02904',\n 'RXN15055',\n 'RXN14123',\n 'RXN33981',\n 'RXN03617',\n 'RXN27716',\n 'RXN30431',\n 'RXN30590',\n 'RXN00295',\n 'RXN31988',\n 'RXN32056',\n 'RXN32378',\n 'RXN33078',\n 'RXN15640',\n 'RXN38490',\n 'RXN01613',\n 'RXN14097',\n 'RXN27933',\n 'RXN26310',\n 'RXN33539',\n 'RXN16144',\n 'RXN08113',\n 'RXN35545',\n 'RXN33256',\n 'RXN07482',\n 'RXN39346',\n 'RXN09177',\n 'RXN00478',\n 'RXN31381',\n 'RXN35418',\n 'RXN03990',\n 'RXN30983',\n 'RXN00461',\n 'RXN00958',\n 'RXN40299',\n 'RXN00460',\n 'RXN38318',\n 'RXN07650',\n 'RXN32139',\n 'RXN04809',\n 'RXN30380',\n 'RXN02728',\n 'RXN38885',\n 'RXN06692',\n 'RXN01016',\n 'RXN31333',\n 'RXN37906',\n 'RXN31826',\n 'RXN23817',\n 'RXN06196',\n 'RXN31098',\n 'RXN03040',\n 'RXN01985',\n 'RXN00803',\n 'RXN35488',\n 'RXN04057',\n 'RXN04076',\n 'RXN31059',\n 'RXN33062',\n 'RXN35430',\n 'RXN27529',\n 'RXN28560',\n 'RXN32473',\n 'RXN38981',\n 'RXN33295',\n 'RXN31088',\n 'RXN33706',\n 'RXN38078',\n 'RXN34556',\n 'RXN16574',\n 'RXN28169',\n 'RXN30166',\n 'RXN20658',\n 'RXN31275',\n 'RXN02046',\n 'RXN28646',\n 'RXN39402',\n 'RXN33884',\n 'RXN07292',\n 'RXN03419',\n 'RXN29956',\n 'RXN32956',\n 'RXN34674',\n 'RXN26481',\n 'RXN15964',\n 'RXN07485',\n 'RXN15406',\n 'RXN27772',\n 'RXN27944',\n 'RXN40381',\n 'RXN31324',\n 'RXN23524',\n 'RXN23129',\n 'RXN31545',\n 'RXN24043',\n 'RXN03362',\n 'RXN34731',\n 'RXN00662',\n 'RXN39452',\n 'RXN00265',\n 'RXN07234',\n 'RXN01037',\n 'RXN23055',\n 'RXN30429',\n 'RXN01252',\n 'RXN04116',\n 'RXN02286',\n 'RXN04873',\n 'RXN35352',\n 'RXN15726',\n 'RXN38489',\n 'RXN37962',\n 'RXN20630',\n 'RXN25720',\n 'RXN31901',\n 'RXN29978',\n 'RXN19830',\n 'RXN00162',\n 'RXN31973',\n 'RXN13940',\n 'RXN30873',\n 'RXN33315',\n 'RXN01962',\n 'RXN02285',\n 'RXN32076',\n 'RXN39829',\n 'RXN32117',\n 'RXN32740',\n 'RXN39466',\n 'RXN06445',\n 'RXN06435',\n 'RXN27110',\n 'RXN04934',\n 'RXN01601',\n 'RXN28001',\n 'RXN03869',\n 'RXN03801',\n 'RXN03446',\n 'RXN31412',\n 'RXN01943',\n 'RXN33873',\n 'RXN07684',\n 'RXN23155',\n 'RXN30580',\n 'RXN37913',\n 'RXN00107',\n 'RXN29946',\n 'RXN04059',\n 'RXN15878',\n 'RXN33619',\n 'RXN02341',\n 'RXN31891',\n 'RXN07909',\n 'RXN01446',\n 'RXN15809',\n 'RXN16827',\n 'RXN00348',\n 'RXN02143',\n 'RXN21864',\n 'RXN30596',\n 'RXN38113',\n 'RXN07688',\n 'RXN28987',\n 'RXN35345',\n 'RXN19956',\n 'RXN16485',\n 'RXN19641',\n 'RXN33858',\n 'RXN32148',\n 'RXN35526',\n 'RXN04118',\n 'RXN02066',\n 'RXN27109',\n 'RXN38487',\n 'RXN08458',\n 'RXN03935',\n 'RXN02176',\n 'RXN36715',\n 'RXN27956',\n 'RXN32739',\n 'RXN32450',\n 'RXN29989',\n 'RXN05035',\n 'RXN38043',\n 'RXN23589',\n 'RXN38153',\n 'RXN02949',\n 'RXN38284',\n 'RXN32777',\n 'RXN24314',\n 'RXN40001',\n 'RXN21215',\n 'RXN39995',\n 'RXN33398',\n 'RXN30104',\n 'RXN33340',\n 'RXN00957',\n 'RXN06437',\n 'RXN07139',\n 'RXN30209',\n 'RXN37816',\n 'RXN38257',\n 'RXN40102',\n 'RXN33762',\n 'RXN04275',\n 'RXN00729',\n 'RXN03800',\n 'RXN38482',\n 'RXN33582',\n 'RXN32216',\n 'RXN02128',\n 'RXN16355',\n 'RXN03378',\n 'RXN15998',\n 'RXN40014',\n 'RXN11245',\n 'RXN32553',\n 'RXN06077',\n 'RXN06565',\n 'RXN04832',\n 'RXN06774',\n 'RXN07243',\n 'RXN32796',\n 'RXN11774',\n 'RXN16583',\n 'RXN39993',\n 'RXN33740',\n 'RXN27708',\n 'RXN20046',\n 'RXN11807',\n 'RXN07291',\n 'RXN02144',\n 'RXN33766',\n 'RXN01646',\n 'RXN31847',\n 'RXN33573',\n 'RXN29952',\n 'RXN18964',\n 'RXN15948',\n 'RXN39316',\n 'RXN02405',\n 'RXN33431',\n 'RXN35315',\n 'RXN38124',\n 'RXN14089',\n 'RXN31878',\n 'RXN29006',\n 'RXN33436',\n 'RXN03919',\n 'RXN16134',\n 'RXN33318',\n 'RXN15885',\n 'RXN08766',\n 'RXN30129',\n 'RXN33242',\n 'RXN07908',\n 'RXN02515',\n 'RXN06890',\n 'RXN38706',\n 'RXN05114',\n 'RXN03445',\n 'RXN28146',\n 'RXN35524',\n 'RXN32044',\n 'RXN34671',\n 'RXN02447',\n 'RXN15451',\n 'RXN04818',\n 'RXN16544',\n 'RXN21639',\n 'RXN29955',\n 'RXN03395',\n 'RXN31362',\n 'RXN35284',\n 'RXN40037',\n 'RXN22826',\n 'RXN33725',\n 'RXN30332',\n 'RXN32727',\n 'RXN40016',\n 'RXN34729',\n 'RXN13947',\n 'RXN33164',\n 'RXN04886',\n 'RXN31361',\n 'RXN15812',\n 'RXN25051',\n 'RXN28377',\n 'RXN38244',\n 'RXN35359',\n 'RXN38055',\n 'RXN39337',\n 'RXN32058',\n 'RXN04872',\n 'RXN38465',\n 'RXN32559',\n 'RXN16824',\n 'RXN04816',\n 'RXN15539',\n 'RXN35529',\n 'RXN38046',\n 'RXN33035',\n 'RXN39389',\n 'RXN03934',\n 'RXN27455',\n 'RXN33563',\n 'RXN02565',\n 'RXN28091',\n 'RXN27983',\n 'RXN32810',\n 'RXN48570',\n 'RXN03031',\n 'RXN32176',\n 'RXN28081',\n 'RXN34739',\n 'RXN38069',\n 'RXN30665',\n 'RXN15652',\n 'RXN32901',\n 'RXN12193',\n 'RXN15388',\n 'RXN16084',\n 'RXN30165',\n 'RXN03755',\n 'RXN19488',\n 'RXN27774',\n 'RXN35351',\n 'RXN33015',\n 'RXN03555',\n 'RXN02011',\n 'RXN30578',\n 'RXN24178',\n 'RXN04078',\n 'RXN40257',\n 'RXN32939',\n 'RXN27785',\n 'RXN34633',\n 'RXN28109',\n 'RXN27429',\n 'RXN28051',\n 'RXN33492',\n 'RXN39284',\n 'RXN14346',\n 'RXN06038',\n 'RXN12015',\n 'RXN32118',\n 'RXN07882',\n 'RXN07580',\n 'RXN37694',\n 'RXN15805',\n 'RXN04810',\n 'RXN30397',\n 'RXN03340',\n 'RXN30303',\n 'RXN03153',\n 'RXN38696',\n 'RXN13951',\n 'RXN07741',\n 'RXN04274',\n 'RXN03400',\n 'RXN01203',\n 'RXN35543',\n 'RXN38274',\n 'RXN16484',\n 'RXN32128',\n 'RXN00004',\n 'RXN00255',\n 'RXN03408',\n 'RXN06961',\n 'RXN38024',\n 'RXN03421',\n 'RXN16436',\n 'RXN27520',\n 'RXN01913',\n 'RXN38130',\n 'RXN16553',\n 'RXN30368',\n 'RXN33231',\n 'RXN12749',\n 'RXN34728',\n 'RXN07883',\n 'RXN34273',\n 'RXN06282',\n 'RXN33281',\n 'RXN00299',\n 'RXN00748',\n 'RXN16678',\n 'RXN34682',\n 'RXN32982',\n 'RXN01633',\n 'RXN33193',\n 'RXN31960',\n 'RXN32253',\n 'RXN02345',\n 'RXN00302',\n 'RXN33820',\n 'RXN00346',\n 'RXN02483',\n 'RXN02593',\n 'RXN32021',\n 'RXN34736',\n 'RXN04645',\n 'RXN32421',\n 'RXN00517',\n 'RXN16228',\n 'RXN31355',\n 'RXN38059',\n 'RXN35311',\n 'RXN06037',\n 'RXN33400',\n 'RXN07687',\n 'RXN35412',\n 'RXN20026',\n 'RXN38020',\n 'RXN00595',\n 'RXN33412',\n 'RXN35246',\n 'RXN35533',\n 'RXN33067',\n 'RXN34793',\n 'RXN33182',\n 'RXN30364',\n 'RXN28381',\n 'RXN02467',\n 'RXN01202',\n 'RXN01503',\n 'RXN07523',\n 'RXN02526',\n 'RXN35439',\n 'RXN35374',\n 'RXN27692',\n 'RXN01998',\n 'RXN30384',\n 'RXN33550',\n 'RXN38273',\n 'RXN20644',\n 'RXN02365',\n 'RXN04676',\n 'RXN04144',\n 'RXN30156',\n 'RXN00537',\n 'RXN38104',\n 'RXN32591',\n 'RXN33143',\n 'RXN15950',\n 'RXN30352',\n 'RXN33213',\n 'RXN06429',\n 'RXN34685',\n 'RXN27788',\n 'RXN12004',\n 'RXN11811',\n 'RXN31450',\n 'RXN16206',\n 'RXN31895',\n 'RXN28325',\n 'RXN30708',\n 'RXN14043',\n 'RXN36857',\n 'RXN29959',\n 'RXN01930',\n 'RXN01973',\n 'RXN16803',\n 'RXN39480',\n 'RXN03174',\n 'RXN39958',\n 'RXN03598',\n 'RXN33789',\n 'RXN33806',\n 'RXN02869',\n 'RXN35449',\n 'RXN38694',\n 'RXN34245',\n 'RXN30394',\n 'RXN38070',\n 'RXN12649',\n 'RXN19892',\n 'RXN15170',\n 'RXN31786',\n 'RXN02767',\n 'RXN02518',\n 'RXN32404',\n 'RXN39990',\n 'RXN34299',\n 'RXN32754',\n 'RXN30175',\n 'RXN27893',\n 'RXN01859',\n 'RXN39441',\n 'RXN38253',\n 'RXN27845',\n 'RXN39510',\n 'RXN35531',\n 'RXN38011',\n 'RXN38398',\n 'RXN00930',\n 'RXN19646',\n 'RXN30096',\n 'RXN01358',\n 'RXN27717',\n 'RXN28107',\n 'RXN16585',\n 'RXN00615',\n 'RXN07151',\n 'RXN37873',\n 'RXN03668',\n 'RXN03393',\n 'RXN23371',\n 'RXN32516',\n 'RXN03630',\n 'RXN35541',\n 'RXN20040',\n 'RXN30194',\n 'RXN31883',\n 'RXN04953',\n 'RXN32991',\n 'RXN30339',\n 'RXN32171',\n 'RXN02204',\n 'RXN00023',\n 'RXN35415',\n 'RXN39344',\n 'RXN01647',\n 'RXN33637',\n 'RXN30860',\n 'RXN32249',\n 'RXN04795',\n 'RXN02971',\n 'RXN30979',\n 'RXN03596',\n 'RXN27432',\n 'RXN03313',\n 'RXN32095',\n 'RXN16584',\n 'RXN31870',\n 'RXN06711',\n 'RXN38053',\n 'RXN27766',\n 'RXN32556',\n 'RXN03415',\n 'RXN32814',\n 'RXN03216',\n 'RXN38492',\n 'RXN34794',\n 'RXN00623',\n 'RXN35556',\n 'RXN34212',\n 'RXN38134',\n 'RXN34732',\n 'RXN01685',\n 'RXN01156',\n 'RXN16208',\n 'RXN00426',\n 'RXN32343',\n 'RXN07070',\n 'RXN39331',\n 'RXN17384',\n 'RXN02611',\n 'RXN11730',\n 'RXN31256',\n 'RXN39378',\n 'RXN38718',\n 'RXN15699',\n 'RXN32270',\n 'RXN04077',\n 'RXN05112',\n 'RXN38970',\n 'RXN02609',\n 'RXN15815',\n 'RXN05117',\n 'RXN28046',\n 'RXN27943',\n 'RXN12051',\n 'RXN38969',\n 'RXN38121',\n 'RXN35530',\n 'RXN11156',\n 'RXN30385',\n 'RXN33432',\n 'RXN39451',\n 'RXN34567',\n 'RXN38123',\n 'RXN31325',\n 'RXN06090',\n 'RXN15813',\n 'RXN31366',\n 'RXN31397',\n 'RXN33778',\n 'RXN35413',\n 'RXN00286',\n 'RXN01303',\n 'RXN30697',\n 'RXN31277',\n 'RXN25749',\n 'RXN16435',\n 'RXN39478',\n 'RXN35409',\n 'RXN15040',\n 'RXN27937',\n 'RXN33259',\n 'RXN30152',\n 'RXN06446',\n 'RXN34758',\n 'RXN33484',\n 'RXN23415',\n 'RXN32567',\n 'RXN02884',\n 'RXN36714',\n 'RXN37809',\n 'RXN11808',\n 'RXN31758',\n 'RXN12191',\n 'RXN27997',\n 'RXN35427',\n 'RXN04234',\n 'RXN03780',\n 'RXN15808',\n 'RXN16082',\n 'RXN40382',\n 'RXN34787',\n 'RXN04830',\n 'RXN33024',\n 'RXN11768',\n 'RXN37640',\n 'RXN16527',\n 'RXN32204',\n 'RXN32898',\n 'RXN02258',\n 'RXN35528',\n 'RXN16804',\n 'RXN27420',\n 'RXN03860',\n 'RXN33207',\n 'RXN06584',\n 'RXN33517',\n 'RXN02235',\n 'RXN38092',\n 'RXN03669',\n 'RXN03047',\n 'RXN07484',\n 'RXN04132',\n 'RXN32234',\n 'RXN33474',\n 'RXN28089',\n 'RXN03159',\n 'RXN07456',\n 'RXN35215',\n 'RXN02776',\n 'RXN37807',\n 'RXN04952',\n 'RXN01035',\n 'RXN11759',\n 'RXN30355',\n 'RXN31218',\n 'RXN35536',\n 'RXN07439',\n 'RXN32319',\n 'RXN35247',\n 'RXN07494',\n 'RXN20608',\n 'RXN06776',\n 'RXN34630',\n 'RXN33382',\n 'RXN28376',\n 'RXN32365',\n 'RXN30398',\n 'RXN04895',\n 'RXN28084',\n 'RXN33374',\n 'RXN15018',\n 'RXN30544',\n 'RXN01158',\n 'RXN38034',\n 'RXN33659',\n ...}"
     },
     "execution_count": 4,
     "metadata": {},
     "output_type": "execute_result"
    }
   ],
   "source": [
    "reactions[\"merlin\"]"
   ],
   "metadata": {
    "collapsed": false,
    "pycharm": {
     "name": "#%%\n"
    }
   }
  }
 ],
 "metadata": {
  "kernelspec": {
   "display_name": "Python 3",
   "language": "python",
   "name": "python3"
  },
  "language_info": {
   "codemirror_mode": {
    "name": "ipython",
    "version": 2
   },
   "file_extension": ".py",
   "mimetype": "text/x-python",
   "name": "python",
   "nbconvert_exporter": "python",
   "pygments_lexer": "ipython2",
   "version": "2.7.6"
  }
 },
 "nbformat": 4,
 "nbformat_minor": 0
}